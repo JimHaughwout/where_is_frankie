{
 "cells": [
  {
   "cell_type": "markdown",
   "metadata": {},
   "source": [
    "#### Summary\n",
    "*Using WiFi-only for geolocation in a congested area has indoor accuracy of +/- 8 m. This is far better than the commercial GPS sensor standard. It is intesting to see that, like GPS, the error correlates to a higher level of WiFi signal received through windows, vs. walls.*"
   ]
  },
  {
   "cell_type": "code",
   "execution_count": 1,
   "metadata": {
    "collapsed": true
   },
   "outputs": [],
   "source": [
    "import findspark # You will need to pip install findspark\n",
    "findspark.init()"
   ]
  },
  {
   "cell_type": "code",
   "execution_count": 2,
   "metadata": {
    "collapsed": true
   },
   "outputs": [],
   "source": [
    "from pyspark.sql import SQLContext\n",
    "from pyspark import SparkContext"
   ]
  },
  {
   "cell_type": "code",
   "execution_count": 3,
   "metadata": {
    "collapsed": true
   },
   "outputs": [],
   "source": [
    "sc = SparkContext(\"local\", \"MyShell\") # Spark UI at http://localhost:4040/jobs/\n",
    "sqlContext = SQLContext(sc)"
   ]
  },
  {
   "cell_type": "code",
   "execution_count": 4,
   "metadata": {
    "collapsed": false
   },
   "outputs": [
    {
     "name": "stdout",
     "output_type": "stream",
     "text": [
      "root\n",
      " |-- accuracy: double (nullable = true)\n",
      " |-- asOfTimestamp: long (nullable = true)\n",
      " |-- event: string (nullable = true)\n",
      " |-- location: struct (nullable = true)\n",
      " |    |-- lat: double (nullable = true)\n",
      " |    |-- lng: double (nullable = true)\n",
      " |-- sensorId: string (nullable = true)\n",
      " |-- wifiAccessPoints: array (nullable = true)\n",
      " |    |-- element: struct (containsNull = true)\n",
      " |    |    |-- channel: string (nullable = true)\n",
      " |    |    |-- macAddress: string (nullable = true)\n",
      " |    |    |-- signalStrength: long (nullable = true)\n",
      "\n"
     ]
    }
   ],
   "source": [
    "df0 = sqlContext.read.json('HAUGHWOUT_MAC_BELLFOREST')\n",
    "df0.registerTempTable('df0')\n",
    "df0.printSchema()"
   ]
  },
  {
   "cell_type": "code",
   "execution_count": 5,
   "metadata": {
    "collapsed": false
   },
   "outputs": [
    {
     "data": {
      "text/html": [
       "<div>\n",
       "<table border=\"1\" class=\"dataframe\">\n",
       "  <thead>\n",
       "    <tr style=\"text-align: right;\">\n",
       "      <th></th>\n",
       "      <th>deviceId</th>\n",
       "      <th>eventType</th>\n",
       "      <th>timestamp</th>\n",
       "      <th>latitude</th>\n",
       "      <th>longitude</th>\n",
       "      <th>accuracy</th>\n",
       "    </tr>\n",
       "  </thead>\n",
       "  <tbody>\n",
       "    <tr>\n",
       "      <th>0</th>\n",
       "      <td>32:00:16:53:d8:80</td>\n",
       "      <td>GeolocationUpdate</td>\n",
       "      <td>2017-08-18T04:35:24Z</td>\n",
       "      <td>38.881004</td>\n",
       "      <td>-77.226941</td>\n",
       "      <td>61.0</td>\n",
       "    </tr>\n",
       "    <tr>\n",
       "      <th>1</th>\n",
       "      <td>32:00:16:53:d8:80</td>\n",
       "      <td>GeolocationUpdate</td>\n",
       "      <td>2017-08-18T04:20:19Z</td>\n",
       "      <td>38.880996</td>\n",
       "      <td>-77.226938</td>\n",
       "      <td>44.0</td>\n",
       "    </tr>\n",
       "    <tr>\n",
       "      <th>2</th>\n",
       "      <td>32:00:16:53:d8:80</td>\n",
       "      <td>GeolocationUpdate</td>\n",
       "      <td>2017-08-18T04:05:16Z</td>\n",
       "      <td>38.880999</td>\n",
       "      <td>-77.226985</td>\n",
       "      <td>35.0</td>\n",
       "    </tr>\n",
       "    <tr>\n",
       "      <th>3</th>\n",
       "      <td>32:00:16:53:d8:80</td>\n",
       "      <td>GeolocationUpdate</td>\n",
       "      <td>2017-08-18T03:50:12Z</td>\n",
       "      <td>38.880994</td>\n",
       "      <td>-77.226897</td>\n",
       "      <td>61.0</td>\n",
       "    </tr>\n",
       "    <tr>\n",
       "      <th>4</th>\n",
       "      <td>32:00:16:53:d8:80</td>\n",
       "      <td>GeolocationUpdate</td>\n",
       "      <td>2017-08-18T03:35:07Z</td>\n",
       "      <td>38.880989</td>\n",
       "      <td>-77.226937</td>\n",
       "      <td>38.0</td>\n",
       "    </tr>\n",
       "    <tr>\n",
       "      <th>5</th>\n",
       "      <td>32:00:16:53:d8:80</td>\n",
       "      <td>GeolocationUpdate</td>\n",
       "      <td>2017-08-18T03:20:03Z</td>\n",
       "      <td>38.881020</td>\n",
       "      <td>-77.226916</td>\n",
       "      <td>65.0</td>\n",
       "    </tr>\n",
       "    <tr>\n",
       "      <th>6</th>\n",
       "      <td>32:00:16:53:d8:80</td>\n",
       "      <td>GeolocationUpdate</td>\n",
       "      <td>2017-08-18T03:04:59Z</td>\n",
       "      <td>38.880992</td>\n",
       "      <td>-77.226928</td>\n",
       "      <td>43.0</td>\n",
       "    </tr>\n",
       "    <tr>\n",
       "      <th>7</th>\n",
       "      <td>32:00:16:53:d8:80</td>\n",
       "      <td>GeolocationUpdate</td>\n",
       "      <td>2017-08-18T02:49:55Z</td>\n",
       "      <td>38.880977</td>\n",
       "      <td>-77.226957</td>\n",
       "      <td>40.0</td>\n",
       "    </tr>\n",
       "    <tr>\n",
       "      <th>8</th>\n",
       "      <td>32:00:16:53:d8:80</td>\n",
       "      <td>GeolocationUpdate</td>\n",
       "      <td>2017-08-18T02:34:51Z</td>\n",
       "      <td>38.881013</td>\n",
       "      <td>-77.226945</td>\n",
       "      <td>61.0</td>\n",
       "    </tr>\n",
       "    <tr>\n",
       "      <th>9</th>\n",
       "      <td>32:00:16:53:d8:80</td>\n",
       "      <td>GeolocationUpdate</td>\n",
       "      <td>2017-08-18T02:19:47Z</td>\n",
       "      <td>38.880989</td>\n",
       "      <td>-77.226962</td>\n",
       "      <td>34.0</td>\n",
       "    </tr>\n",
       "  </tbody>\n",
       "</table>\n",
       "</div>"
      ],
      "text/plain": [
       "            deviceId          eventType             timestamp   latitude  \\\n",
       "0  32:00:16:53:d8:80  GeolocationUpdate  2017-08-18T04:35:24Z  38.881004   \n",
       "1  32:00:16:53:d8:80  GeolocationUpdate  2017-08-18T04:20:19Z  38.880996   \n",
       "2  32:00:16:53:d8:80  GeolocationUpdate  2017-08-18T04:05:16Z  38.880999   \n",
       "3  32:00:16:53:d8:80  GeolocationUpdate  2017-08-18T03:50:12Z  38.880994   \n",
       "4  32:00:16:53:d8:80  GeolocationUpdate  2017-08-18T03:35:07Z  38.880989   \n",
       "5  32:00:16:53:d8:80  GeolocationUpdate  2017-08-18T03:20:03Z  38.881020   \n",
       "6  32:00:16:53:d8:80  GeolocationUpdate  2017-08-18T03:04:59Z  38.880992   \n",
       "7  32:00:16:53:d8:80  GeolocationUpdate  2017-08-18T02:49:55Z  38.880977   \n",
       "8  32:00:16:53:d8:80  GeolocationUpdate  2017-08-18T02:34:51Z  38.881013   \n",
       "9  32:00:16:53:d8:80  GeolocationUpdate  2017-08-18T02:19:47Z  38.880989   \n",
       "\n",
       "   longitude  accuracy  \n",
       "0 -77.226941      61.0  \n",
       "1 -77.226938      44.0  \n",
       "2 -77.226985      35.0  \n",
       "3 -77.226897      61.0  \n",
       "4 -77.226937      38.0  \n",
       "5 -77.226916      65.0  \n",
       "6 -77.226928      43.0  \n",
       "7 -77.226957      40.0  \n",
       "8 -77.226945      61.0  \n",
       "9 -77.226962      34.0  "
      ]
     },
     "execution_count": 5,
     "metadata": {},
     "output_type": "execute_result"
    }
   ],
   "source": [
    "reads = sqlContext.sql('''\n",
    "SELECT\n",
    "sensorId as deviceId,\n",
    "event as eventType, \n",
    "from_unixtime(asOfTimestamp, \"yyyy-MM-dd'T'HH:mm:ss'Z'\") as timestamp,\n",
    "location.lat as latitude,\n",
    "location.lng as longitude,\n",
    "accuracy\n",
    "FROM df0\n",
    "ORDER BY timestamp DESC\n",
    "''').toPandas()\n",
    "reads.head(10)"
   ]
  },
  {
   "cell_type": "code",
   "execution_count": 6,
   "metadata": {
    "collapsed": true
   },
   "outputs": [],
   "source": [
    "MARKER = [38.881029, -77.227023]"
   ]
  },
  {
   "cell_type": "code",
   "execution_count": 7,
   "metadata": {
    "collapsed": false
   },
   "outputs": [
    {
     "data": {
      "text/html": [
       "<div style=\"width:100%;\"><div style=\"position:relative;width:100%;height:0;padding-bottom:60%;\"><iframe src=\"data:text/html;base64,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\" style=\"position:absolute;width:100%;height:100%;left:0;top:0;\"></iframe></div></div>"
      ],
      "text/plain": [
       "<folium.folium.Map at 0x10c9ec190>"
      ]
     },
     "execution_count": 7,
     "metadata": {},
     "output_type": "execute_result"
    }
   ],
   "source": [
    "import folium\n",
    "\n",
    "def geomap(reads_df, marker=None):\n",
    "    df = reads_df.dropna()\n",
    "    mapa = folium.Map(location=[df['latitude'].median(), df['longitude'].median()])\n",
    "    mapa.fit_bounds([[df['latitude'].min(), df['longitude'].min()], [df['latitude'].max(), df['longitude'].max()]])\n",
    "    mapa.add_child(folium.PolyLine(list(zip(df.latitude, df.longitude))))\n",
    "    if marker:\n",
    "        marker_location = marker\n",
    "        label = 'MARKER: (%.4f, %.4f)' % (marker_location[0], marker_location[1])\n",
    "    else:\n",
    "        marker_location = list(df.iloc[1][['latitude', 'longitude']].values)\n",
    "        label = 'LATEST LOCATION: (%.4f, %.4f)' % (marker_location[0], marker_location[1])\n",
    "    folium.RegularPolygonMarker(location=marker_location, popup=label, fill_color='blue', \n",
    "                                number_of_sides=4, radius=8).add_to(mapa)\n",
    "    return mapa\n",
    "\n",
    "geomap(reads, MARKER)  # If you exclude MARKER, the diamond is the latest location"
   ]
  },
  {
   "cell_type": "code",
   "execution_count": 8,
   "metadata": {
    "collapsed": false
   },
   "outputs": [
    {
     "data": {
      "text/html": [
       "<div>\n",
       "<table border=\"1\" class=\"dataframe\">\n",
       "  <thead>\n",
       "    <tr style=\"text-align: right;\">\n",
       "      <th></th>\n",
       "      <th>err_meters</th>\n",
       "    </tr>\n",
       "  </thead>\n",
       "  <tbody>\n",
       "    <tr>\n",
       "      <th>count</th>\n",
       "      <td>54.000000</td>\n",
       "    </tr>\n",
       "    <tr>\n",
       "      <th>mean</th>\n",
       "      <td>8.035156</td>\n",
       "    </tr>\n",
       "    <tr>\n",
       "      <th>std</th>\n",
       "      <td>1.352839</td>\n",
       "    </tr>\n",
       "    <tr>\n",
       "      <th>min</th>\n",
       "      <td>4.742524</td>\n",
       "    </tr>\n",
       "    <tr>\n",
       "      <th>25%</th>\n",
       "      <td>7.113893</td>\n",
       "    </tr>\n",
       "    <tr>\n",
       "      <th>50%</th>\n",
       "      <td>8.050800</td>\n",
       "    </tr>\n",
       "    <tr>\n",
       "      <th>75%</th>\n",
       "      <td>8.710110</td>\n",
       "    </tr>\n",
       "    <tr>\n",
       "      <th>max</th>\n",
       "      <td>11.574066</td>\n",
       "    </tr>\n",
       "    <tr>\n",
       "      <th>accuracy</th>\n",
       "      <td>8.146165</td>\n",
       "    </tr>\n",
       "  </tbody>\n",
       "</table>\n",
       "</div>"
      ],
      "text/plain": [
       "          err_meters\n",
       "count      54.000000\n",
       "mean        8.035156\n",
       "std         1.352839\n",
       "min         4.742524\n",
       "25%         7.113893\n",
       "50%         8.050800\n",
       "75%         8.710110\n",
       "max        11.574066\n",
       "accuracy    8.146165"
      ]
     },
     "execution_count": 8,
     "metadata": {},
     "output_type": "execute_result"
    }
   ],
   "source": [
    "# Calculate the Standard Error of Prediction - a good means to calculate for sensor accuracy\n",
    "from geopy.distance import vincenty\n",
    "def calc_err_m(lat, lng):\n",
    "    \"\"\"Calculate Vincenty distance from MARKER\"\"\"\n",
    "    p = (lat, lng)\n",
    "    return vincenty(p, MARKER).m\n",
    "\n",
    "\n",
    "from math import sqrt\n",
    "def calc_sep(df_col):\n",
    "    \"\"\"Square root of the sum to the squared error over the count of reads\"\"\"\n",
    "    return sqrt(df_col.apply(lambda x: x*x).sum() / len(df_col))\n",
    "\n",
    "\n",
    "def compute_error(reads_df):\n",
    "    \"\"\"Computes statistics on geolocation accuracy\"\"\"\n",
    "    df = reads_df[['latitude', 'longitude']].dropna() \n",
    "    df['err_meters'] = df.apply(lambda row: calc_err_m(row['latitude'], row['longitude']), axis=1)\n",
    "    results = df[['err_meters']].describe()\n",
    "    results.loc['accuracy'] = calc_sep(df['err_meters'])  # Expected error in meters\n",
    "    return results\n",
    "\n",
    "compute_error(reads)"
   ]
  },
  {
   "cell_type": "code",
   "execution_count": null,
   "metadata": {
    "collapsed": true
   },
   "outputs": [],
   "source": []
  }
 ],
 "metadata": {
  "kernelspec": {
   "display_name": "Python 2",
   "language": "python",
   "name": "python2"
  },
  "language_info": {
   "codemirror_mode": {
    "name": "ipython",
    "version": 2
   },
   "file_extension": ".py",
   "mimetype": "text/x-python",
   "name": "python",
   "nbconvert_exporter": "python",
   "pygments_lexer": "ipython2",
   "version": "2.7.10"
  }
 },
 "nbformat": 4,
 "nbformat_minor": 0
}
