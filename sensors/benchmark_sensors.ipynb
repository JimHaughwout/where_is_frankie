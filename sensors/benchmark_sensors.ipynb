{
 "cells": [
  {
   "cell_type": "code",
   "execution_count": 1,
   "metadata": {
    "collapsed": true
   },
   "outputs": [],
   "source": [
    "import findspark # You will need to pip install findspark\n",
    "findspark.init()"
   ]
  },
  {
   "cell_type": "code",
   "execution_count": 2,
   "metadata": {
    "collapsed": true
   },
   "outputs": [],
   "source": [
    "from pyspark.sql import SQLContext\n",
    "from pyspark import SparkContext"
   ]
  },
  {
   "cell_type": "code",
   "execution_count": 3,
   "metadata": {
    "collapsed": true
   },
   "outputs": [],
   "source": [
    "sc = SparkContext(\"local\", \"MyShell\") # Spark UI at http://localhost:4040/jobs/\n",
    "sqlContext = SQLContext(sc)"
   ]
  },
  {
   "cell_type": "code",
   "execution_count": 25,
   "metadata": {
    "collapsed": false
   },
   "outputs": [
    {
     "name": "stdout",
     "output_type": "stream",
     "text": [
      "root\n",
      " |-- accuracy: double (nullable = true)\n",
      " |-- asOfTimestamp: long (nullable = true)\n",
      " |-- event: string (nullable = true)\n",
      " |-- location: struct (nullable = true)\n",
      " |    |-- lat: double (nullable = true)\n",
      " |    |-- lng: double (nullable = true)\n",
      " |-- sensorId: string (nullable = true)\n",
      " |-- wifiAccessPoints: array (nullable = true)\n",
      " |    |-- element: struct (containsNull = true)\n",
      " |    |    |-- channel: string (nullable = true)\n",
      " |    |    |-- macAddress: string (nullable = true)\n",
      " |    |    |-- signalStrength: long (nullable = true)\n",
      "\n"
     ]
    }
   ],
   "source": [
    "df0 = sqlContext.read.json('HAUGHWOUT_MAC_BELLFOREST')\n",
    "df0.registerTempTable('df0')\n",
    "df0.printSchema()"
   ]
  },
  {
   "cell_type": "code",
   "execution_count": 26,
   "metadata": {
    "collapsed": false
   },
   "outputs": [
    {
     "data": {
      "text/html": [
       "<div>\n",
       "<table border=\"1\" class=\"dataframe\">\n",
       "  <thead>\n",
       "    <tr style=\"text-align: right;\">\n",
       "      <th></th>\n",
       "      <th>deviceId</th>\n",
       "      <th>eventType</th>\n",
       "      <th>timestamp</th>\n",
       "      <th>latitude</th>\n",
       "      <th>longitude</th>\n",
       "      <th>accuracy</th>\n",
       "    </tr>\n",
       "  </thead>\n",
       "  <tbody>\n",
       "    <tr>\n",
       "      <th>0</th>\n",
       "      <td>32:00:16:53:d8:80</td>\n",
       "      <td>GeolocationUpdate</td>\n",
       "      <td>2017-08-17T12:50:21Z</td>\n",
       "      <td>38.881007</td>\n",
       "      <td>-77.226957</td>\n",
       "      <td>59.0</td>\n",
       "    </tr>\n",
       "    <tr>\n",
       "      <th>1</th>\n",
       "      <td>32:00:16:53:d8:80</td>\n",
       "      <td>GeolocationUpdate</td>\n",
       "      <td>2017-08-17T12:35:17Z</td>\n",
       "      <td>38.881040</td>\n",
       "      <td>-77.226939</td>\n",
       "      <td>58.0</td>\n",
       "    </tr>\n",
       "    <tr>\n",
       "      <th>2</th>\n",
       "      <td>32:00:16:53:d8:80</td>\n",
       "      <td>GeolocationUpdate</td>\n",
       "      <td>2017-08-17T12:20:13Z</td>\n",
       "      <td>38.880992</td>\n",
       "      <td>-77.226939</td>\n",
       "      <td>57.0</td>\n",
       "    </tr>\n",
       "    <tr>\n",
       "      <th>3</th>\n",
       "      <td>32:00:16:53:d8:80</td>\n",
       "      <td>GeolocationUpdate</td>\n",
       "      <td>2017-08-17T12:05:09Z</td>\n",
       "      <td>38.880979</td>\n",
       "      <td>-77.226959</td>\n",
       "      <td>56.0</td>\n",
       "    </tr>\n",
       "    <tr>\n",
       "      <th>4</th>\n",
       "      <td>32:00:16:53:d8:80</td>\n",
       "      <td>GeolocationUpdate</td>\n",
       "      <td>2017-08-17T11:50:05Z</td>\n",
       "      <td>38.881029</td>\n",
       "      <td>-77.226933</td>\n",
       "      <td>64.0</td>\n",
       "    </tr>\n",
       "    <tr>\n",
       "      <th>5</th>\n",
       "      <td>32:00:16:53:d8:80</td>\n",
       "      <td>GeolocationUpdate</td>\n",
       "      <td>2017-08-17T11:35:01Z</td>\n",
       "      <td>38.881029</td>\n",
       "      <td>-77.226923</td>\n",
       "      <td>56.0</td>\n",
       "    </tr>\n",
       "    <tr>\n",
       "      <th>6</th>\n",
       "      <td>32:00:16:53:d8:80</td>\n",
       "      <td>GeolocationUpdate</td>\n",
       "      <td>2017-08-17T11:19:57Z</td>\n",
       "      <td>38.881035</td>\n",
       "      <td>-77.226919</td>\n",
       "      <td>63.0</td>\n",
       "    </tr>\n",
       "    <tr>\n",
       "      <th>7</th>\n",
       "      <td>32:00:16:53:d8:80</td>\n",
       "      <td>GeolocationUpdate</td>\n",
       "      <td>2017-08-17T11:04:53Z</td>\n",
       "      <td>38.881024</td>\n",
       "      <td>-77.226924</td>\n",
       "      <td>85.0</td>\n",
       "    </tr>\n",
       "    <tr>\n",
       "      <th>8</th>\n",
       "      <td>32:00:16:53:d8:80</td>\n",
       "      <td>GeolocationUpdate</td>\n",
       "      <td>2017-08-17T10:49:48Z</td>\n",
       "      <td>38.880998</td>\n",
       "      <td>-77.226941</td>\n",
       "      <td>45.0</td>\n",
       "    </tr>\n",
       "    <tr>\n",
       "      <th>9</th>\n",
       "      <td>32:00:16:53:d8:80</td>\n",
       "      <td>GeolocationUpdate</td>\n",
       "      <td>2017-08-17T10:34:44Z</td>\n",
       "      <td>38.881003</td>\n",
       "      <td>-77.226928</td>\n",
       "      <td>60.0</td>\n",
       "    </tr>\n",
       "  </tbody>\n",
       "</table>\n",
       "</div>"
      ],
      "text/plain": [
       "            deviceId          eventType             timestamp   latitude  \\\n",
       "0  32:00:16:53:d8:80  GeolocationUpdate  2017-08-17T12:50:21Z  38.881007   \n",
       "1  32:00:16:53:d8:80  GeolocationUpdate  2017-08-17T12:35:17Z  38.881040   \n",
       "2  32:00:16:53:d8:80  GeolocationUpdate  2017-08-17T12:20:13Z  38.880992   \n",
       "3  32:00:16:53:d8:80  GeolocationUpdate  2017-08-17T12:05:09Z  38.880979   \n",
       "4  32:00:16:53:d8:80  GeolocationUpdate  2017-08-17T11:50:05Z  38.881029   \n",
       "5  32:00:16:53:d8:80  GeolocationUpdate  2017-08-17T11:35:01Z  38.881029   \n",
       "6  32:00:16:53:d8:80  GeolocationUpdate  2017-08-17T11:19:57Z  38.881035   \n",
       "7  32:00:16:53:d8:80  GeolocationUpdate  2017-08-17T11:04:53Z  38.881024   \n",
       "8  32:00:16:53:d8:80  GeolocationUpdate  2017-08-17T10:49:48Z  38.880998   \n",
       "9  32:00:16:53:d8:80  GeolocationUpdate  2017-08-17T10:34:44Z  38.881003   \n",
       "\n",
       "   longitude  accuracy  \n",
       "0 -77.226957      59.0  \n",
       "1 -77.226939      58.0  \n",
       "2 -77.226939      57.0  \n",
       "3 -77.226959      56.0  \n",
       "4 -77.226933      64.0  \n",
       "5 -77.226923      56.0  \n",
       "6 -77.226919      63.0  \n",
       "7 -77.226924      85.0  \n",
       "8 -77.226941      45.0  \n",
       "9 -77.226928      60.0  "
      ]
     },
     "execution_count": 26,
     "metadata": {},
     "output_type": "execute_result"
    }
   ],
   "source": [
    "reads = sqlContext.sql('''\n",
    "SELECT\n",
    "sensorId as deviceId,\n",
    "event as eventType, \n",
    "from_unixtime(asOfTimestamp, \"yyyy-MM-dd'T'HH:mm:ss'Z'\") as timestamp,\n",
    "location.lat as latitude,\n",
    "location.lng as longitude,\n",
    "accuracy\n",
    "FROM df0\n",
    "ORDER BY timestamp DESC\n",
    "''').toPandas()\n",
    "reads.head(10)"
   ]
  },
  {
   "cell_type": "code",
   "execution_count": 27,
   "metadata": {
    "collapsed": true
   },
   "outputs": [],
   "source": [
    "MARKER = [38.881029, -77.227023]"
   ]
  },
  {
   "cell_type": "code",
   "execution_count": 28,
   "metadata": {
    "collapsed": false
   },
   "outputs": [
    {
     "data": {
      "text/html": [
       "<div style=\"width:100%;\"><div style=\"position:relative;width:100%;height:0;padding-bottom:60%;\"><iframe src=\"data:text/html;base64,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\" style=\"position:absolute;width:100%;height:100%;left:0;top:0;\"></iframe></div></div>"
      ],
      "text/plain": [
       "<folium.folium.Map at 0x113fc8210>"
      ]
     },
     "execution_count": 28,
     "metadata": {},
     "output_type": "execute_result"
    }
   ],
   "source": [
    "import folium\n",
    "\n",
    "def geomap(reads_df, marker=None):\n",
    "    df = reads_df.dropna()\n",
    "    mapa = folium.Map(location=[df['latitude'].median(), df['longitude'].median()])\n",
    "    mapa.fit_bounds([[df['latitude'].min(), df['longitude'].min()], [df['latitude'].max(), df['longitude'].max()]])\n",
    "    mapa.add_child(folium.PolyLine(list(zip(df.latitude, df.longitude))))\n",
    "    if marker:\n",
    "        marker_location = marker\n",
    "        label = 'MARKER: (%.4f, %.4f)' % (marker_location[0], marker_location[1])\n",
    "    else:\n",
    "        marker_location = list(df.iloc[1][['latitude', 'longitude']].values)\n",
    "        label = 'LATEST LOCATION: (%.4f, %.4f)' % (marker_location[0], marker_location[1])\n",
    "    folium.RegularPolygonMarker(location=marker_location, popup=label, fill_color='blue', \n",
    "                                number_of_sides=4, radius=8).add_to(mapa)\n",
    "    return mapa\n",
    "\n",
    "geomap(reads, MARKER)  # If you exclude MARKER, the diamond is the latest location"
   ]
  },
  {
   "cell_type": "code",
   "execution_count": 29,
   "metadata": {
    "collapsed": false
   },
   "outputs": [
    {
     "data": {
      "text/html": [
       "<div>\n",
       "<table border=\"1\" class=\"dataframe\">\n",
       "  <thead>\n",
       "    <tr style=\"text-align: right;\">\n",
       "      <th></th>\n",
       "      <th>err_meters</th>\n",
       "    </tr>\n",
       "  </thead>\n",
       "  <tbody>\n",
       "    <tr>\n",
       "      <th>count</th>\n",
       "      <td>12.000000</td>\n",
       "    </tr>\n",
       "    <tr>\n",
       "      <th>mean</th>\n",
       "      <td>8.098700</td>\n",
       "    </tr>\n",
       "    <tr>\n",
       "      <th>std</th>\n",
       "      <td>0.925298</td>\n",
       "    </tr>\n",
       "    <tr>\n",
       "      <th>min</th>\n",
       "      <td>6.207206</td>\n",
       "    </tr>\n",
       "    <tr>\n",
       "      <th>25%</th>\n",
       "      <td>7.683298</td>\n",
       "    </tr>\n",
       "    <tr>\n",
       "      <th>50%</th>\n",
       "      <td>8.134828</td>\n",
       "    </tr>\n",
       "    <tr>\n",
       "      <th>75%</th>\n",
       "      <td>8.698316</td>\n",
       "    </tr>\n",
       "    <tr>\n",
       "      <th>max</th>\n",
       "      <td>9.576350</td>\n",
       "    </tr>\n",
       "    <tr>\n",
       "      <th>accuracy</th>\n",
       "      <td>8.147010</td>\n",
       "    </tr>\n",
       "  </tbody>\n",
       "</table>\n",
       "</div>"
      ],
      "text/plain": [
       "          err_meters\n",
       "count      12.000000\n",
       "mean        8.098700\n",
       "std         0.925298\n",
       "min         6.207206\n",
       "25%         7.683298\n",
       "50%         8.134828\n",
       "75%         8.698316\n",
       "max         9.576350\n",
       "accuracy    8.147010"
      ]
     },
     "execution_count": 29,
     "metadata": {},
     "output_type": "execute_result"
    }
   ],
   "source": [
    "# Calculate the Standard Error of Prediction - a good means to calculate for sensor accuracy\n",
    "from geopy.distance import vincenty\n",
    "def calc_err_m(lat, lng):\n",
    "    \"\"\"Calculate Vincenty distance from MARKER\"\"\"\n",
    "    p = (lat, lng)\n",
    "    return vincenty(p, MARKER).m\n",
    "\n",
    "\n",
    "from math import sqrt\n",
    "def calc_sep(df_col):\n",
    "    \"\"\"Square root of the sum to the squared error over the count of reads\"\"\"\n",
    "    return sqrt(df_col.apply(lambda x: x*x).sum() / len(df_col))\n",
    "\n",
    "\n",
    "def compute_error(reads_df):\n",
    "    \"\"\"Computes statistics on geolocation accuracy\"\"\"\n",
    "    df = reads_df[['latitude', 'longitude']].dropna() \n",
    "    df['err_meters'] = df.apply(lambda row: calc_err_m(row['latitude'], row['longitude']), axis=1)\n",
    "    results = df[['err_meters']].describe()\n",
    "    results.loc['accuracy'] = calc_sep(df['err_meters'])  # Expected error in meters\n",
    "    return results\n",
    "\n",
    "compute_error(reads)"
   ]
  }
 ],
 "metadata": {
  "kernelspec": {
   "display_name": "Python 2",
   "language": "python",
   "name": "python2"
  },
  "language_info": {
   "codemirror_mode": {
    "name": "ipython",
    "version": 2
   },
   "file_extension": ".py",
   "mimetype": "text/x-python",
   "name": "python",
   "nbconvert_exporter": "python",
   "pygments_lexer": "ipython2",
   "version": "2.7.10"
  }
 },
 "nbformat": 4,
 "nbformat_minor": 0
}
